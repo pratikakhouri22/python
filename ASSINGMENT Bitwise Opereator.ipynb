{
 "cells": [
  {
   "cell_type": "markdown",
   "id": "575ebbc9",
   "metadata": {},
   "source": [
    "# BITWISE OPERATOR"
   ]
  },
  {
   "cell_type": "markdown",
   "id": "ee2fbcb2",
   "metadata": {},
   "source": [
    "# Bitwise- AND (&), OR (|), NOT (~), XOR (^)"
   ]
  },
  {
   "cell_type": "code",
   "execution_count": 1,
   "id": "2e75858e",
   "metadata": {},
   "outputs": [
    {
     "name": "stdout",
     "output_type": "stream",
     "text": [
      "Bitwise AND: 1\n"
     ]
    }
   ],
   "source": [
    "a = 10\n",
    "b = 4\n",
    " \n",
    "# Print bitwise AND operation\n",
    "print(\"a & b =\", a & b)\n",
    " \n",
    "# Print bitwise OR operation\n",
    "print(\"a | b =\", a | b)\n",
    " \n",
    "# Print bitwise NOT operation\n",
    "print(\"~a =\", ~a)\n",
    " \n",
    "# print bitwise XOR operation\n",
    "print(\"a ^ b =\", a ^ b)"
   ]
  },
  {
   "cell_type": "markdown",
   "id": "333d58e8",
   "metadata": {},
   "source": [
    "# Bitwise right shift (>>)"
   ]
  },
  {
   "cell_type": "code",
   "execution_count": 4,
   "id": "db51139b",
   "metadata": {},
   "outputs": [
    {
     "name": "stdout",
     "output_type": "stream",
     "text": [
      "Bitwise Left Shift: 20\n"
     ]
    }
   ],
   "source": [
    "a = 5  # binary: 0101\n",
    "num_shifts = 2\n",
    "result = a << num_shifts  # binary: 10100 (decimal: 20)\n",
    "print(\"Bitwise Left Shift:\", result)"
   ]
  },
  {
   "cell_type": "markdown",
   "id": "be5a2a5a",
   "metadata": {},
   "source": [
    "# Bitwise left shift (<<)"
   ]
  },
  {
   "cell_type": "code",
   "execution_count": 5,
   "id": "254493be",
   "metadata": {},
   "outputs": [
    {
     "name": "stdout",
     "output_type": "stream",
     "text": [
      "Bitwise Left Shift: 20\n"
     ]
    }
   ],
   "source": [
    "a = 5  # binary: 0101\n",
    "num_shifts = 2\n",
    "result = a << num_shifts  # binary: 10100 (decimal: 20)\n",
    "print(\"Bitwise Left Shift:\", result)"
   ]
  },
  {
   "cell_type": "code",
   "execution_count": null,
   "id": "dc0be1f9",
   "metadata": {},
   "outputs": [],
   "source": []
  }
 ],
 "metadata": {
  "kernelspec": {
   "display_name": "Python 3 (ipykernel)",
   "language": "python",
   "name": "python3"
  },
  "language_info": {
   "codemirror_mode": {
    "name": "ipython",
    "version": 3
   },
   "file_extension": ".py",
   "mimetype": "text/x-python",
   "name": "python",
   "nbconvert_exporter": "python",
   "pygments_lexer": "ipython3",
   "version": "3.11.4"
  }
 },
 "nbformat": 4,
 "nbformat_minor": 5
}
