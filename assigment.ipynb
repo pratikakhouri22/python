{
 "cells": [
  {
   "cell_type": "code",
   "execution_count": 4,
   "id": "793a3a68",
   "metadata": {},
   "outputs": [
    {
     "name": "stdout",
     "output_type": "stream",
     "text": [
      "Squared List: [1, 4, 9, 16]\n"
     ]
    }
   ],
   "source": [
    "list = [1, 2, 3, 4]\n",
    "updated_list = [x ** 2 for x in list]\n",
    "print(\"Squared List:\", updated_list)\n"
   ]
  },
  {
   "cell_type": "code",
   "execution_count": null,
   "id": "f27a8270",
   "metadata": {},
   "outputs": [],
   "source": []
  }
 ],
 "metadata": {
  "kernelspec": {
   "display_name": "Python 3 (ipykernel)",
   "language": "python",
   "name": "python3"
  },
  "language_info": {
   "codemirror_mode": {
    "name": "ipython",
    "version": 3
   },
   "file_extension": ".py",
   "mimetype": "text/x-python",
   "name": "python",
   "nbconvert_exporter": "python",
   "pygments_lexer": "ipython3",
   "version": "3.11.4"
  }
 },
 "nbformat": 4,
 "nbformat_minor": 5
}
